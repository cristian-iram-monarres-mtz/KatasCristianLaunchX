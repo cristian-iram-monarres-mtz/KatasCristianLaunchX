{
 "cells": [
  {
   "cell_type": "markdown",
   "metadata": {},
   "source": [
    "Kata 3\n"
   ]
  },
  {
   "cell_type": "code",
   "execution_count": 3,
   "metadata": {},
   "outputs": [
    {
     "name": "stdout",
     "output_type": "stream",
     "text": [
      "¡¡¡ALERTA!!! Se acerca un asteroide muy rápido a la Tierra\n"
     ]
    }
   ],
   "source": [
    "vel_asteriod=49\n",
    "if vel_asteriod>25:\n",
    "    print(\"¡¡¡ALERTA!!! Se acerca un asteroide muy rápido a la Tierra\")\n",
    "else:\n",
    "    print(\"Sigue con tu vida normal\")"
   ]
  },
  {
   "cell_type": "code",
   "execution_count": 5,
   "metadata": {},
   "outputs": [
    {
     "name": "stdout",
     "output_type": "stream",
     "text": [
      "No hay nada que ver\n"
     ]
    }
   ],
   "source": [
    "asteroid=19\n",
    "if asteroid > 20:\n",
    "    print(\"Busca un rayo de luz en el cielo\")\n",
    "elif asteroid ==20:\n",
    "    print(\"Busca un rayo de luz en el cielo\")\n",
    "else:\n",
    "    print(\"No hay nada que ver\")"
   ]
  },
  {
   "cell_type": "code",
   "execution_count": 16,
   "metadata": {},
   "outputs": [
    {
     "name": "stdout",
     "output_type": "stream",
     "text": [
      "¡¡¡ADVERTENCIA!!! Se acerca un asteroide muy peligroso. Extreme precauciones\n"
     ]
    }
   ],
   "source": [
    "velocidad_asteriode=52\n",
    "tamaño_asteroide=50\n",
    "if velocidad_asteriode>25 and tamaño_asteroide>25:\n",
    "    print(\"¡¡¡ADVERTENCIA!!! Se acerca un asteroide muy peligroso. Extreme precauciones\")\n",
    "elif velocidad_asteriode >= 20:\n",
    "    print(\"Busca un rayo de luz en el cielo\")\n",
    "elif tamaño_asteroide<25:\n",
    "    print(\"Sigue con tu vida normal\")\n",
    "else:\n",
    "    print(\"Sigue con tu vida normal\")\n"
   ]
  }
 ],
 "metadata": {
  "interpreter": {
   "hash": "916dbcbb3f70747c44a77c7bcd40155683ae19c65e1c03b4aa3499c5328201f1"
  },
  "kernelspec": {
   "display_name": "Python 3.8.10 64-bit",
   "language": "python",
   "name": "python3"
  },
  "language_info": {
   "codemirror_mode": {
    "name": "ipython",
    "version": 3
   },
   "file_extension": ".py",
   "mimetype": "text/x-python",
   "name": "python",
   "nbconvert_exporter": "python",
   "pygments_lexer": "ipython3",
   "version": "3.8.10"
  },
  "orig_nbformat": 4
 },
 "nbformat": 4,
 "nbformat_minor": 2
}
