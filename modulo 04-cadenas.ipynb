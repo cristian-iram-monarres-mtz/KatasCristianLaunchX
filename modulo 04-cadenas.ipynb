{
 "cells": [
  {
   "cell_type": "markdown",
   "metadata": {},
   "source": [
    "\n",
    "Kata 4"
   ]
  },
  {
   "cell_type": "code",
   "execution_count": 10,
   "metadata": {},
   "outputs": [
    {
     "name": "stdout",
     "output_type": "stream",
     "text": [
      "['Interesting facts about the Moon', \"The Moon is Earth's only satellite\", 'There are several interesting facts about the Moon and how it affects life here on Earth', '\\nOn average, the Moon moves 4cm away from the Earth every year', 'This yearly drift is not significant enough to cause immediate effects on Earth', 'The highest daylight temperature of the Moon is 127 C.']\n",
      "\n",
      "On average, the Moon moves 4cm away from the Earth every year\n",
      "The highest daylight temperature of the Moon is 127 C.\n",
      "\n",
      "On average, the Moon moves 4cm away from the Earth every year\n",
      "The highest daylight temperature of the Moon is 127 Celsius.\n"
     ]
    }
   ],
   "source": [
    "#Datos para trabajar\n",
    "text = \"\"\"Interesting facts about the Moon. The Moon is Earth's only satellite. There are several interesting facts about the Moon and how it affects life here on Earth. \n",
    "On average, the Moon moves 4cm away from the Earth every year. This yearly drift is not significant enough to cause immediate effects on Earth. The highest daylight temperature of the Moon is 127 C.\"\"\"\n",
    "\n",
    "#Dividir el texto\n",
    "text_oracion= text.split('. ')\n",
    "print(text_oracion)\n",
    "\n",
    "#palabras clave\n",
    "palabras_clave=[\"average\", \"temperature\", \"distance\"]\n",
    "\n",
    "#Bucle para imprimir datos de la luna con palabras clave\n",
    "for sentence in text_oracion:\n",
    "    for key_word in palabras_clave:\n",
    "        if key_word in sentence:\n",
    "            print(sentence)\n",
    "            break\n",
    "\n",
    "# Bucle para cambiar C a Celsius \n",
    "for sentence in text_oracion:\n",
    "    for key_word in palabras_clave:\n",
    "        if key_word in sentence:\n",
    "            print(sentence.replace('C', 'Celsius'))\n",
    "            break\n",
    "\n"
   ]
  },
  {
   "cell_type": "code",
   "execution_count": 18,
   "metadata": {},
   "outputs": [
    {
     "name": "stdout",
     "output_type": "stream",
     "text": [
      "Gravity Facts About Moon\n",
      "--------------------------------------------------------------------------------\n",
      "Planet name: Earth\n",
      "Gravity on Moon: 1.6199999999999999 m/s2 \n",
      "\n",
      "--------------------------------------------------------------------------------\n",
      "Planet name: Earth\n",
      "Gravity on Moon: 1.6199999999999999 m/s2 \n",
      "\n",
      "Gravity facts about Ganímedes\n",
      "---------------------------------------------\n",
      "Planet name: Marte \n",
      "Gravity on Ganímedes: 0.00143 m/s2\n"
     ]
    }
   ],
   "source": [
    "# Datos para trabajar\n",
    "name = \"Moon\"\n",
    "gravity = 0.00162 # in kms\n",
    "planet = \"Earth\"\n",
    "\n",
    "#Titulo\n",
    "title= f'Gravity facts about {name}'\n",
    "\n",
    "#Para la plantilla\n",
    "hechos= f\"\"\"{'-'*80}\n",
    "Planet name: {planet}\n",
    "Gravity on {name}: {gravity *1000} m/s2 \"\"\"\n",
    "\n",
    "##Unión de cadenas \n",
    "moon_facts= f\"\"\"{title.title()}\n",
    "{hechos}\n",
    "\"\"\"\n",
    "print(moon_facts)\n",
    "\n",
    "##Con datos nuevos\n",
    "planeta = 'Marte '\n",
    "gravedad  = 0.00143\n",
    "nombre = 'Ganímedes'\n",
    "print(hechos)\n",
    "\n",
    "#Nueva plantilla\n",
    "new_template= \"\"\"\n",
    "Gravity facts about {nombre}\n",
    "---------------------------------------------\n",
    "Planet name: {planeta}\n",
    "Gravity on {nombre}: {gravedad} m/s2\"\"\"\n",
    "\n",
    "print(new_template.format(nombre=nombre, planeta=planeta, gravedad=gravedad))"
   ]
  }
 ],
 "metadata": {
  "interpreter": {
   "hash": "916dbcbb3f70747c44a77c7bcd40155683ae19c65e1c03b4aa3499c5328201f1"
  },
  "kernelspec": {
   "display_name": "Python 3.8.10 64-bit",
   "language": "python",
   "name": "python3"
  },
  "language_info": {
   "codemirror_mode": {
    "name": "ipython",
    "version": 3
   },
   "file_extension": ".py",
   "mimetype": "text/x-python",
   "name": "python",
   "nbconvert_exporter": "python",
   "pygments_lexer": "ipython3",
   "version": "3.8.10"
  },
  "orig_nbformat": 4
 },
 "nbformat": 4,
 "nbformat_minor": 2
}
