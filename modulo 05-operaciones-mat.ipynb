{
 "cells": [
  {
   "cell_type": "markdown",
   "metadata": {},
   "source": [
    "Kata 5"
   ]
  },
  {
   "cell_type": "code",
   "execution_count": null,
   "metadata": {},
   "outputs": [],
   "source": [
    "Tierra=149597870\n",
    "Jupiter= 778547200\n",
    "\n",
    "#Cálculo de distancia entre planetas\n",
    "distancia_entre_planetas= Jupiter-Tierra\n",
    "print('La distancia entre la Tierra y Júiter es de:' + str(distancia_entre_planetas) + 'Km')\n",
    "\n",
    "#Distancia en millas \n",
    "distancia_en_millas= distancia_entre_planetas*0.621\n",
    "print('La distancia entre la Tierra y Júiter es de:' + str(distancia_en_millas) + 'Km')\n",
    "\n",
    "\n",
    "\n"
   ]
  },
  {
   "cell_type": "code",
   "execution_count": 8,
   "metadata": {},
   "outputs": [
    {
     "name": "stdout",
     "output_type": "stream",
     "text": [
      "La distancia entre el primer planeta y el segundo es de: 50km\n",
      "La distancia entre el primer planeta y el segundo es de: 31.05millas\n"
     ]
    }
   ],
   "source": [
    "#Entradas del usuario\n",
    "planeta1= input(\"Introduce la distancia al sol del primer planeta (Km)\")\n",
    "planeta2= input(\"Introduce la distancia al sol del segundo planeta (Km)\")\n",
    "\n",
    "#Convertir cadenas a numeros enteros\n",
    "planeta1_int= int(planeta1)\n",
    "planeta2_int= int(planeta2)\n",
    "\n",
    "#Cálculo y valor absoluto\n",
    "distancia_km= abs(planeta2_int - planeta1_int)\n",
    "print(\"La distancia entre el primer planeta y el segundo es de: \" + str(distancia_km) + \"km\")\n",
    "\n",
    "#Conversión a millas\n",
    "distancia_millas= distancia_km*0.621\n",
    "print(\"La distancia entre el primer planeta y el segundo es de: \" + str(distancia_millas) + \"millas\")\n",
    "\n",
    "\n"
   ]
  }
 ],
 "metadata": {
  "interpreter": {
   "hash": "916dbcbb3f70747c44a77c7bcd40155683ae19c65e1c03b4aa3499c5328201f1"
  },
  "kernelspec": {
   "display_name": "Python 3.8.10 64-bit",
   "language": "python",
   "name": "python3"
  },
  "language_info": {
   "codemirror_mode": {
    "name": "ipython",
    "version": 3
   },
   "file_extension": ".py",
   "mimetype": "text/x-python",
   "name": "python",
   "nbconvert_exporter": "python",
   "pygments_lexer": "ipython3",
   "version": "3.8.10"
  },
  "orig_nbformat": 4
 },
 "nbformat": 4,
 "nbformat_minor": 2
}
