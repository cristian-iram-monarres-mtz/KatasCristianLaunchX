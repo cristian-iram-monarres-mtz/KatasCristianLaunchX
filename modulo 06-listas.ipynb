{
 "cells": [
  {
   "cell_type": "markdown",
   "metadata": {},
   "source": [
    "# Módulo 6\n",
    "## Introducción a las listas\n",
    "Kata"
   ]
  },
  {
   "cell_type": "code",
   "execution_count": 6,
   "metadata": {},
   "outputs": [
    {
     "name": "stdout",
     "output_type": "stream",
     "text": [
      "There are 8 planets in the solar system\n",
      "There are 9 planets in the solar system\n",
      "Pluton is the last planet\n"
     ]
    }
   ],
   "source": [
    "#Lista de planetas\n",
    "planets=[\"Mercurio\", \"Venus\", \"Tierra\", \"Marte\", \"Jupiter\", \"Saturno\", \"Urano\", \"Neptuno\"]\n",
    "number_of_planets=len(planets)\n",
    "print('There are', number_of_planets, 'planets in the solar system')\n",
    "\n",
    "#Agregar un elemento y lo mostramos\n",
    "planets.append('Pluton')\n",
    "number_of_planets= len(planets)\n",
    "print('There are', number_of_planets, 'planets in the solar system')\n",
    "print(planets[-1], 'is the last planet')"
   ]
  },
  {
   "cell_type": "code",
   "execution_count": 8,
   "metadata": {},
   "outputs": [
    {
     "name": "stdout",
     "output_type": "stream",
     "text": [
      "Estos planetas están más cerca al sol que: Venus\n",
      "['Mercury']\n",
      "Estos planetas estás más lejos del sol que: Venus\n",
      "['Earth', 'Mars', 'Jupiter', 'Saturn', 'Uranus', 'Neptune']\n"
     ]
    }
   ],
   "source": [
    "#Lista de planetas\n",
    "planets=[\"Mercury\", \"Venus\", \"Earth\", \"Mars\", \"Jupiter\", \"Saturn\", \"Uranus\", \"Neptune\"]\n",
    "\n",
    "#Solicitud al usuario \n",
    "planet_user=input(\"Introduce el nombre de un planeta, con la primera letra en mayúscula y en inglés\")\n",
    "\n",
    "#Para buscar en la lista lo que escribio el usuario\n",
    "planet_index=planets.index(planet_user)\n",
    "\n",
    "#Planetas mas cercanos al sol\n",
    "closer_planet= planets[0:planet_index]\n",
    "print(\"Estos planetas están más cerca al sol que: \" + planet_user)\n",
    "print(closer_planet)\n",
    "\n",
    "\n",
    "#Planetas más lejanos al sol\n",
    "further_planet= planets[planet_index +1:]\n",
    "print(\"Estos planetas estás más lejos del sol que: \" +planet_user)\n",
    "print(further_planet)\n",
    "\n",
    "\n",
    "\n"
   ]
  }
 ],
 "metadata": {
  "interpreter": {
   "hash": "916dbcbb3f70747c44a77c7bcd40155683ae19c65e1c03b4aa3499c5328201f1"
  },
  "kernelspec": {
   "display_name": "Python 3.8.10 64-bit",
   "language": "python",
   "name": "python3"
  },
  "language_info": {
   "codemirror_mode": {
    "name": "ipython",
    "version": 3
   },
   "file_extension": ".py",
   "mimetype": "text/x-python",
   "name": "python",
   "nbconvert_exporter": "python",
   "pygments_lexer": "ipython3",
   "version": "3.8.10"
  },
  "orig_nbformat": 4
 },
 "nbformat": 4,
 "nbformat_minor": 2
}
